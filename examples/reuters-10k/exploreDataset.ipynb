{
 "cells": [
  {
   "cell_type": "code",
   "execution_count": 1,
   "metadata": {},
   "outputs": [
    {
     "name": "stdout",
     "output_type": "stream",
     "text": [
      "Requirement already satisfied: scipy in c:\\users\\admin\\anaconda3\\lib\\site-packages (1.11.1)\n",
      "Requirement already satisfied: numpy<1.28.0,>=1.21.6 in c:\\users\\admin\\anaconda3\\lib\\site-packages (from scipy) (1.24.3)\n"
     ]
    },
    {
     "name": "stderr",
     "output_type": "stream",
     "text": [
      "DEPRECATION: Loading egg at c:\\users\\admin\\anaconda3\\lib\\site-packages\\ptsdae-1.0-py3.11.egg is deprecated. pip 23.3 will enforce this behaviour change. A possible replacement is to use pip for package installation..\n",
      "DEPRECATION: Loading egg at c:\\users\\admin\\anaconda3\\lib\\site-packages\\torch-2.3.0-py3.11-win-amd64.egg is deprecated. pip 23.3 will enforce this behaviour change. A possible replacement is to use pip for package installation..\n",
      "DEPRECATION: Loading egg at c:\\users\\admin\\anaconda3\\lib\\site-packages\\visdom-0.2.4-py3.11.egg is deprecated. pip 23.3 will enforce this behaviour change. A possible replacement is to use pip for package installation..\n",
      "DEPRECATION: Loading egg at c:\\users\\admin\\anaconda3\\lib\\site-packages\\xlrd-2.0.1-py3.11.egg is deprecated. pip 23.3 will enforce this behaviour change. A possible replacement is to use pip for package installation..\n"
     ]
    }
   ],
   "source": [
    "!pip install scipy\n"
   ]
  },
  {
   "cell_type": "code",
   "execution_count": 2,
   "metadata": {},
   "outputs": [
    {
     "name": "stdout",
     "output_type": "stream",
     "text": [
      "dict_keys(['__header__', '__version__', '__globals__', 'Y', 'X'])\n",
      "Key: Y\n",
      "[[1 0 3 ... 0 0 0]]\n",
      "Key: X\n",
      "[[0. 0. 0. ... 0. 0. 0.]\n",
      " [0. 0. 0. ... 0. 0. 0.]\n",
      " [0. 0. 0. ... 0. 0. 0.]\n",
      " ...\n",
      " [0. 0. 0. ... 0. 0. 0.]\n",
      " [0. 0. 0. ... 0. 0. 0.]\n",
      " [0. 0. 0. ... 0. 0. 0.]]\n"
     ]
    }
   ],
   "source": [
    "import scipy.io\n",
    "\n",
    "# Đường dẫn đến file .mat\n",
    "file_path = 'reuters10k.mat'\n",
    "\n",
    "# Tải nội dung file .mat\n",
    "data = scipy.io.loadmat(file_path)\n",
    "\n",
    "# Kiểm tra các key trong file\n",
    "print(data.keys())\n",
    "\n",
    "# Kiểm tra nội dung của các key chính\n",
    "for key in data:\n",
    "    if key not in ['__header__', '__version__', '__globals__']:\n",
    "        print(f\"Key: {key}\")\n",
    "        print(data[key])\n"
   ]
  },
  {
   "cell_type": "code",
   "execution_count": 3,
   "metadata": {},
   "outputs": [
    {
     "name": "stdout",
     "output_type": "stream",
     "text": [
      "dict_keys(['__header__', '__version__', '__globals__', 'Y', 'X'])\n",
      "Key: Y\n",
      "Type: <class 'numpy.ndarray'>\n",
      "Shape: (1, 10000)\n",
      "Sample data: [[1 0 3 ... 0 0 0]]\n",
      "--------------------------------------------------\n",
      "Key: X\n",
      "Type: <class 'numpy.ndarray'>\n",
      "Shape: (10000, 2000)\n",
      "Sample data: [[0. 0. 0. ... 0. 0. 0.]\n",
      " [0. 0. 0. ... 0. 0. 0.]\n",
      " [0. 0. 0. ... 0. 0. 0.]\n",
      " [0. 0. 0. ... 0. 0. 0.]\n",
      " [0. 0. 0. ... 0. 0. 0.]]\n",
      "--------------------------------------------------\n"
     ]
    }
   ],
   "source": [
    "import scipy.io\n",
    "\n",
    "# Đường dẫn đến file .mat\n",
    "file_path = 'reuters10k.mat'\n",
    "\n",
    "# Tải nội dung file .mat\n",
    "data = scipy.io.loadmat(file_path)\n",
    "\n",
    "# In ra các key trong file\n",
    "print(data.keys())\n",
    "\n",
    "# Kiểm tra chi tiết nội dung của các key chính\n",
    "for key in data:\n",
    "    if key not in ['__header__', '__version__', '__globals__']:\n",
    "        print(f\"Key: {key}\")\n",
    "        print(f\"Type: {type(data[key])}\")\n",
    "        print(f\"Shape: {data[key].shape}\")\n",
    "        print(f\"Sample data: {data[key][:5]}\")  # In ra 5 phần tử đầu tiên để kiểm tra\n",
    "        print(\"-\" * 50)\n"
   ]
  },
  {
   "cell_type": "code",
   "execution_count": 5,
   "metadata": {},
   "outputs": [
    {
     "name": "stdout",
     "output_type": "stream",
     "text": [
      "Key: Y\n",
      "Type: <class 'numpy.ndarray'>\n",
      "Shape: (1, 10000)\n",
      "Data type: int8\n",
      "Min value: 0\n",
      "Max value: 3\n",
      "Mean value: 0.9787\n",
      "Sample data: [[1 0 3 ... 0 0 0]]\n",
      "--------------------------------------------------\n",
      "Key: X\n",
      "Type: <class 'numpy.ndarray'>\n",
      "Shape: (10000, 2000)\n",
      "Data type: float32\n",
      "Min value: 0.0\n",
      "Max value: 37.99555587768555\n",
      "Mean value: 0.14728277921676636\n",
      "Sample data: [[0. 0. 0. ... 0. 0. 0.]\n",
      " [0. 0. 0. ... 0. 0. 0.]\n",
      " [0. 0. 0. ... 0. 0. 0.]\n",
      " [0. 0. 0. ... 0. 0. 0.]\n",
      " [0. 0. 0. ... 0. 0. 0.]]\n",
      "--------------------------------------------------\n"
     ]
    }
   ],
   "source": [
    "import numpy as np\n",
    "\n",
    "# Kiểm tra kiểu dữ liệu và thống kê cơ bản cho từng mảng\n",
    "for key in data:\n",
    "    if key not in ['__header__', '__version__', '__globals__']:\n",
    "        array = data[key]\n",
    "        print(f\"Key: {key}\")\n",
    "        print(f\"Type: {type(array)}\")\n",
    "        print(f\"Shape: {array.shape}\")\n",
    "        if isinstance(array, np.ndarray):\n",
    "            print(f\"Data type: {array.dtype}\")\n",
    "            print(f\"Min value: {np.min(array)}\")\n",
    "            print(f\"Max value: {np.max(array)}\")\n",
    "            print(f\"Mean value: {np.mean(array)}\")\n",
    "            print(f\"Sample data: {array[:5]}\")  # In ra 5 phần tử đầu tiên để kiểm tra\n",
    "        print(\"-\" * 50)\n"
   ]
  },
  {
   "cell_type": "code",
   "execution_count": 6,
   "metadata": {},
   "outputs": [
    {
     "name": "stdout",
     "output_type": "stream",
     "text": [
      "Label distribution:\n",
      "Label 0: 4312 samples\n",
      "Label 1: 2403 samples\n",
      "Label 2: 2471 samples\n",
      "Label 3: 814 samples\n"
     ]
    }
   ],
   "source": [
    "import numpy as np\n",
    "\n",
    "# Kiểm tra phân phối của nhãn\n",
    "labels = data['Y']\n",
    "unique_labels, counts = np.unique(labels, return_counts=True)\n",
    "print(\"Label distribution:\")\n",
    "for label, count in zip(unique_labels, counts):\n",
    "    print(f\"Label {label}: {count} samples\")\n"
   ]
  },
  {
   "cell_type": "code",
   "execution_count": 7,
   "metadata": {},
   "outputs": [
    {
     "name": "stdout",
     "output_type": "stream",
     "text": [
      "First 5 samples of X and corresponding Y:\n",
      "Sample 1:\n",
      "X: [0. 0. 0. ... 0. 0. 0.]\n",
      "Y: [1 0 3 ... 0 0 0]\n",
      "--------------------------------------------------\n",
      "Sample 2:\n",
      "X: [0. 0. 0. ... 0. 0. 0.]\n"
     ]
    },
    {
     "ename": "IndexError",
     "evalue": "index 1 is out of bounds for axis 0 with size 1",
     "output_type": "error",
     "traceback": [
      "\u001b[1;31m---------------------------------------------------------------------------\u001b[0m",
      "\u001b[1;31mIndexError\u001b[0m                                Traceback (most recent call last)",
      "Cell \u001b[1;32mIn[7], line 5\u001b[0m\n\u001b[0;32m      3\u001b[0m \u001b[38;5;28mprint\u001b[39m(\u001b[38;5;124mf\u001b[39m\u001b[38;5;124m\"\u001b[39m\u001b[38;5;124mSample \u001b[39m\u001b[38;5;132;01m{\u001b[39;00mi\u001b[38;5;241m+\u001b[39m\u001b[38;5;241m1\u001b[39m\u001b[38;5;132;01m}\u001b[39;00m\u001b[38;5;124m:\u001b[39m\u001b[38;5;124m\"\u001b[39m)\n\u001b[0;32m      4\u001b[0m \u001b[38;5;28mprint\u001b[39m(\u001b[38;5;124mf\u001b[39m\u001b[38;5;124m\"\u001b[39m\u001b[38;5;124mX: \u001b[39m\u001b[38;5;132;01m{\u001b[39;00mdata[\u001b[38;5;124m'\u001b[39m\u001b[38;5;124mX\u001b[39m\u001b[38;5;124m'\u001b[39m][i]\u001b[38;5;132;01m}\u001b[39;00m\u001b[38;5;124m\"\u001b[39m)\n\u001b[1;32m----> 5\u001b[0m \u001b[38;5;28mprint\u001b[39m(\u001b[38;5;124mf\u001b[39m\u001b[38;5;124m\"\u001b[39m\u001b[38;5;124mY: \u001b[39m\u001b[38;5;132;01m{\u001b[39;00m\u001b[43mdata\u001b[49m\u001b[43m[\u001b[49m\u001b[38;5;124;43m'\u001b[39;49m\u001b[38;5;124;43mY\u001b[39;49m\u001b[38;5;124;43m'\u001b[39;49m\u001b[43m]\u001b[49m\u001b[43m[\u001b[49m\u001b[43mi\u001b[49m\u001b[43m]\u001b[49m\u001b[38;5;132;01m}\u001b[39;00m\u001b[38;5;124m\"\u001b[39m)\n\u001b[0;32m      6\u001b[0m \u001b[38;5;28mprint\u001b[39m(\u001b[38;5;124m\"\u001b[39m\u001b[38;5;124m-\u001b[39m\u001b[38;5;124m\"\u001b[39m \u001b[38;5;241m*\u001b[39m \u001b[38;5;241m50\u001b[39m)\n",
      "\u001b[1;31mIndexError\u001b[0m: index 1 is out of bounds for axis 0 with size 1"
     ]
    }
   ],
   "source": [
    "print(\"First 5 samples of X and corresponding Y:\")\n",
    "for i in range(5):\n",
    "    print(f\"Sample {i+1}:\")\n",
    "    print(f\"X: {data['X'][i]}\")\n",
    "    print(f\"Y: {data['Y'][i]}\")\n",
    "    print(\"-\" * 50)\n"
   ]
  },
  {
   "cell_type": "code",
   "execution_count": 8,
   "metadata": {},
   "outputs": [
    {
     "name": "stdout",
     "output_type": "stream",
     "text": [
      "Max value in X: 37.995556\n",
      "Min value in X: 0.0\n",
      "Mean value in X: 0.14728278\n",
      "Standard deviation in X: 0.9890938\n",
      "Percentage of non-zero elements in X: 2.91%\n"
     ]
    },
    {
     "data": {
      "image/png": "[encoded data removed]",
      "text/plain": [
       "<Figure size 640x480 with 1 Axes>"
      ]
     },
     "metadata": {},
     "output_type": "display_data"
    }
   ],
   "source": [
    "import numpy as np\n",
    "\n",
    "X = data['X']\n",
    "\n",
    "# Kiểm tra các giá trị thống kê của X\n",
    "print(\"Max value in X:\", np.max(X))\n",
    "print(\"Min value in X:\", np.min(X))\n",
    "print(\"Mean value in X:\", np.mean(X))\n",
    "print(\"Standard deviation in X:\", np.std(X))\n",
    "\n",
    "# Kiểm tra tỷ lệ giá trị không bằng 0 trong X\n",
    "non_zero_count = np.count_nonzero(X)\n",
    "total_elements = X.size\n",
    "non_zero_percentage = (non_zero_count / total_elements) * 100\n",
    "print(f\"Percentage of non-zero elements in X: {non_zero_percentage:.2f}%\")\n",
    "\n",
    "# Kiểm tra histogram của các giá trị trong X\n",
    "import matplotlib.pyplot as plt\n",
    "\n",
    "plt.hist(X.flatten(), bins=50)\n",
    "plt.xlabel(\"Value\")\n",
    "plt.ylabel(\"Frequency\")\n",
    "plt.title(\"Histogram of values in X\")\n",
    "plt.show()\n"
   ]
  }
 ],
 "metadata": {
  "kernelspec": {
   "display_name": "base",
   "language": "python",
   "name": "python3"
  },
  "language_info": {
   "codemirror_mode": {
    "name": "ipython",
    "version": 3
   },
   "file_extension": ".py",
   "mimetype": "text/x-python",
   "name": "python",
   "nbconvert_exporter": "python",
   "pygments_lexer": "ipython3",
   "version": "3.11.5"
  }
 },
 "nbformat": 4,
 "nbformat_minor": 2
}
